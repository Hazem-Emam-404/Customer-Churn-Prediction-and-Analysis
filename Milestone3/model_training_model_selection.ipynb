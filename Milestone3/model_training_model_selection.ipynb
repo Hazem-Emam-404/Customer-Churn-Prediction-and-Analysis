{
 "cells": [
  {
   "cell_type": "code",
   "execution_count": 18,
   "id": "46cda4e5",
   "metadata": {},
   "outputs": [],
   "source": [
    "import pandas as pd\n",
    "import numpy as np\n",
    "from sklearn.model_selection import train_test_split\n",
    "from sklearn.preprocessing import StandardScaler\n",
    "from sklearn.linear_model import LogisticRegression\n",
    "from sklearn.ensemble import RandomForestClassifier, GradientBoostingClassifier\n",
    "from sklearn.svm import SVC\n",
    "from imblearn.over_sampling import SMOTE"
   ]
  },
  {
   "cell_type": "code",
   "execution_count": null,
   "id": "a52285da",
   "metadata": {},
   "outputs": [
    {
     "name": "stdout",
     "output_type": "stream",
     "text": [
      "Loading and preparing data...\n"
     ]
    }
   ],
   "source": [
    "# Load and prepare data\n",
    "print(\"Loading and preparing data...\")\n",
    "df = pd.read_csv(\"../data/milestone2_result_df.csv\")"
   ]
  },
  {
   "cell_type": "code",
   "execution_count": 20,
   "id": "4d11fd5f",
   "metadata": {},
   "outputs": [
    {
     "name": "stdout",
     "output_type": "stream",
     "text": [
      "Cleaning data...\n"
     ]
    }
   ],
   "source": [
    "# Data Cleaning\n",
    "print(\"Cleaning data...\")\n",
    "# Drop irrelevant columns\n",
    "df = df.drop(['Churn Reason', 'Days Since Churn'], axis=1, errors='ignore')\n",
    "\n",
    "# Handle missing values\n",
    "df[\"Income\"] = df[\"Income\"].fillna(df[\"Income\"].mean())\n",
    "df[\"Credit Score\"] = df[\"Credit Score\"].fillna(df[\"Credit Score\"].median())\n",
    "df = df.dropna()\n",
    "\n",
    "# Remove duplicates\n",
    "df = df.drop_duplicates()"
   ]
  },
  {
   "cell_type": "code",
   "execution_count": 21,
   "id": "56551f4a",
   "metadata": {},
   "outputs": [
    {
     "name": "stdout",
     "output_type": "stream",
     "text": [
      "Encoding categorical variables...\n"
     ]
    }
   ],
   "source": [
    "# Encode categorical variables\n",
    "print(\"Encoding categorical variables...\")\n",
    "categorical_cols = ['Gender', 'Marital Status', 'Occupation', \n",
    "                   'Education Level', 'Customer Segment', \n",
    "                   'Preferred Communication Channel']\n",
    "df = pd.get_dummies(df, columns=categorical_cols)"
   ]
  },
  {
   "cell_type": "code",
   "execution_count": 22,
   "id": "bef6a649",
   "metadata": {},
   "outputs": [
    {
     "name": "stdout",
     "output_type": "stream",
     "text": [
      "Scaling numeric features...\n"
     ]
    }
   ],
   "source": [
    "# Feature scaling\n",
    "print(\"Scaling numeric features...\")\n",
    "scaler = StandardScaler()\n",
    "numeric_cols = ['Income', 'Customer Tenure', 'Balance', 'Age', 'Credit Score']\n",
    "df[numeric_cols] = scaler.fit_transform(df[numeric_cols])"
   ]
  },
  {
   "cell_type": "code",
   "execution_count": 23,
   "id": "01ba121b",
   "metadata": {},
   "outputs": [
    {
     "name": "stdout",
     "output_type": "stream",
     "text": [
      "Class distribution:\n",
      "Churn Flag\n",
      "0    101546\n",
      "1     14094\n",
      "Name: count, dtype: int64\n",
      "Class imbalance ratio: 7.20\n"
     ]
    }
   ],
   "source": [
    "# Split data into features and target\n",
    "X = df.drop('Churn Flag', axis=1)\n",
    "y = df['Churn Flag']\n",
    "\n",
    "# Check class distribution\n",
    "print(\"Class distribution:\")\n",
    "print(y.value_counts())\n",
    "print(f\"Class imbalance ratio: {y.value_counts()[0] / y.value_counts()[1]:.2f}\")"
   ]
  },
  {
   "cell_type": "code",
   "execution_count": 24,
   "id": "e2784fef",
   "metadata": {},
   "outputs": [
    {
     "name": "stdout",
     "output_type": "stream",
     "text": [
      "Splitting data into train and test sets...\n"
     ]
    }
   ],
   "source": [
    "print(\"Splitting data into train and test sets...\")\n",
    "X_train, X_test, y_train, y_test = train_test_split(\n",
    "    X, y, test_size=0.2, random_state=42, stratify=y)"
   ]
  },
  {
   "cell_type": "code",
   "execution_count": 25,
   "id": "7bc7cccc",
   "metadata": {},
   "outputs": [
    {
     "name": "stdout",
     "output_type": "stream",
     "text": [
      "Applying SMOTE to handle class imbalance...\n"
     ]
    }
   ],
   "source": [
    "print(\"Applying SMOTE to handle class imbalance...\")\n",
    "smote = SMOTE(random_state=42)\n",
    "X_train_resampled, y_train_resampled = smote.fit_resample(X_train, y_train)"
   ]
  },
  {
   "cell_type": "code",
   "execution_count": 26,
   "id": "987b7e0d",
   "metadata": {},
   "outputs": [
    {
     "name": "stdout",
     "output_type": "stream",
     "text": [
      "Original training set shape: (92512, 666)\n",
      "Resampled training set shape: (162474, 666)\n",
      "Resampled class distribution:\n",
      "Churn Flag\n",
      "0    81237\n",
      "1    81237\n",
      "Name: count, dtype: int64\n"
     ]
    }
   ],
   "source": [
    "print(f\"Original training set shape: {X_train.shape}\")\n",
    "print(f\"Resampled training set shape: {X_train_resampled.shape}\")\n",
    "print(\"Resampled class distribution:\")\n",
    "print(pd.Series(y_train_resampled).value_counts())"
   ]
  },
  {
   "cell_type": "code",
   "execution_count": 27,
   "id": "56794179",
   "metadata": {},
   "outputs": [
    {
     "name": "stdout",
     "output_type": "stream",
     "text": [
      "\n",
      "=== MODEL SELECTION AND TRAINING ===\n"
     ]
    }
   ],
   "source": [
    "# MODEL SELECTION AND TRAINING\n",
    "from sklearn.svm import LinearSVC\n",
    "\n",
    "print(\"\\n=== MODEL SELECTION AND TRAINING ===\")\n",
    "\n",
    "# Define models to evaluate\n",
    "models = {\n",
    "    'Logistic Regression': LogisticRegression(max_iter=1000, random_state=42),\n",
    "    'Random Forest': RandomForestClassifier(n_estimators=100, random_state=42),\n",
    "    'Gradient Boosting': GradientBoostingClassifier(n_estimators=100, random_state=42),\n",
    "}\n"
   ]
  },
  {
   "cell_type": "code",
   "execution_count": 28,
   "id": "484f484f",
   "metadata": {},
   "outputs": [],
   "source": [
    "# Train models\n",
    "trained_models = {}\n",
    "training_time = {}"
   ]
  },
  {
   "cell_type": "code",
   "execution_count": 29,
   "id": "5fb422e4",
   "metadata": {},
   "outputs": [
    {
     "name": "stdout",
     "output_type": "stream",
     "text": [
      "\n",
      "Training Logistic Regression...\n"
     ]
    },
    {
     "name": "stderr",
     "output_type": "stream",
     "text": [
      "c:\\Users\\hp\\anaconda3\\Lib\\site-packages\\sklearn\\linear_model\\_logistic.py:469: ConvergenceWarning: lbfgs failed to converge (status=1):\n",
      "STOP: TOTAL NO. of ITERATIONS REACHED LIMIT.\n",
      "\n",
      "Increase the number of iterations (max_iter) or scale the data as shown in:\n",
      "    https://scikit-learn.org/stable/modules/preprocessing.html\n",
      "Please also refer to the documentation for alternative solver options:\n",
      "    https://scikit-learn.org/stable/modules/linear_model.html#logistic-regression\n",
      "  n_iter_i = _check_optimize_result(\n"
     ]
    },
    {
     "name": "stdout",
     "output_type": "stream",
     "text": [
      "Training completed in 53.30 seconds\n",
      "\n",
      "Training Random Forest...\n",
      "Training completed in 80.99 seconds\n",
      "\n",
      "Training Gradient Boosting...\n",
      "Training completed in 202.97 seconds\n"
     ]
    }
   ],
   "source": [
    "for name, model in models.items():\n",
    "    print(f\"\\nTraining {name}...\")\n",
    "    import time\n",
    "    start_time = time.time()\n",
    "    \n",
    "    # Train on resampled data\n",
    "    model.fit(X_train_resampled, y_train_resampled)\n",
    "    \n",
    "    end_time = time.time()\n",
    "    training_time[name] = end_time - start_time\n",
    "    \n",
    "    print(f\"Training completed in {training_time[name]:.2f} seconds\")\n",
    "    trained_models[name] = model"
   ]
  },
  {
   "cell_type": "code",
   "execution_count": 30,
   "id": "72732694",
   "metadata": {},
   "outputs": [],
   "source": [
    "# Save trained models and data splits for subsequent stages\n",
    "import pickle"
   ]
  },
  {
   "cell_type": "code",
   "execution_count": 31,
   "id": "d48590cd",
   "metadata": {},
   "outputs": [
    {
     "name": "stdout",
     "output_type": "stream",
     "text": [
      "\n",
      "Saving models and data for evaluation stage...\n"
     ]
    }
   ],
   "source": [
    "print(\"\\nSaving models and data for evaluation stage...\")\n",
    "with open('churn_models_and_data.pkl', 'wb') as f:\n",
    "    pickle.dump({\n",
    "        'models': trained_models,\n",
    "        'X_train': X_train,\n",
    "        'X_test': X_test,\n",
    "        'y_train': y_train,\n",
    "        'y_test': y_test,\n",
    "        'feature_names': X.columns.tolist()\n",
    "    }, f)"
   ]
  },
  {
   "cell_type": "code",
   "execution_count": 32,
   "id": "2bf8fcd5",
   "metadata": {},
   "outputs": [
    {
     "name": "stdout",
     "output_type": "stream",
     "text": [
      "Model selection and training completed.\n",
      "Summary of models trained:\n",
      "- Logistic Regression: Training time = 53.30 seconds\n",
      "- Random Forest: Training time = 80.99 seconds\n",
      "- Gradient Boosting: Training time = 202.97 seconds\n"
     ]
    }
   ],
   "source": [
    "print(\"Model selection and training completed.\")\n",
    "print(\"Summary of models trained:\")\n",
    "for name, model in trained_models.items():\n",
    "    print(f\"- {name}: Training time = {training_time[name]:.2f} seconds\")"
   ]
  }
 ],
 "metadata": {
  "kernelspec": {
   "display_name": "base",
   "language": "python",
   "name": "python3"
  },
  "language_info": {
   "codemirror_mode": {
    "name": "ipython",
    "version": 3
   },
   "file_extension": ".py",
   "mimetype": "text/x-python",
   "name": "python",
   "nbconvert_exporter": "python",
   "pygments_lexer": "ipython3",
   "version": "3.12.4"
  }
 },
 "nbformat": 4,
 "nbformat_minor": 5
}
